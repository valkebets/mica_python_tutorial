{
 "cells": [
  {
   "cell_type": "markdown",
   "id": "b090039b",
   "metadata": {},
   "source": [
    "# MICA tutorial - Python basics \n",
    "\n",
    "This tutorial was presented to the [MICA lab](https://mica-mni.github.io/) lab in March 2022.\n",
    "\n",
    "\n",
    "### Outline\n",
    "\n",
    "1. Importing modules\n",
    "2. Variables\n",
    "3. Data types\n",
    " - strings\n",
    " - ndarrays\n",
    " - lists\n",
    " - tuples\n",
    " - dictionaries\n",
    "4. Functions\n",
    "5. If statements\n",
    "6. Loops\n",
    "7. Dataframes\n",
    "8. Data viz"
   ]
  },
  {
   "cell_type": "markdown",
   "id": "fd767e7b",
   "metadata": {},
   "source": [
    "**Disclaimer**: Many examples were shamelessly borrowed from [Jacob Sanz-Robinson's *Intro to Python* from the 2021 NeuroDataScience Course (McGill QLS612)](https://github.com/neurodatascience/course-materials-2021)"
   ]
  },
  {
   "cell_type": "markdown",
   "id": "978ff285",
   "metadata": {},
   "source": [
    "## 1. Importing modules\n",
    "\n",
    "Modules to start with :\n",
    "* NumPy (anything & everything)\n",
    "* Pandas (dataframes, tables)\n",
    "* Nibabel (handling neuroimaging data)\n",
    "* SciPy (stats, signal processing)\n",
    "* Scikit-learn (machine learning)\n",
    "* Matplotlib (data viz)\n",
    "* Seaborn (fancy data viz)\n",
    "\n",
    "...\n",
    "also some you may have heard of...\n",
    "* BrainSpace\n",
    "* ENIGMA\n",
    "* BigBrainWarp\n",
    "* BrainStat\n",
    "\n",
    "... and many others"
   ]
  },
  {
   "cell_type": "code",
   "execution_count": 1,
   "id": "aed3b30d",
   "metadata": {},
   "outputs": [],
   "source": [
    "import numpy as np\n",
    "import pandas as pd\n",
    "import matplotlib.pyplot as plt\n",
    "import seaborn as sns"
   ]
  },
  {
   "cell_type": "markdown",
   "id": "f0fb757e",
   "metadata": {},
   "source": [
    "## 2. Variables\n",
    "\n",
    "Variables are containers for storing data values >> names attached to a particular object. \n",
    "\n",
    "A variable is created when you assign a value to it."
   ]
  },
  {
   "cell_type": "code",
   "execution_count": 2,
   "id": "1e39a91c",
   "metadata": {},
   "outputs": [
    {
     "name": "stdout",
     "output_type": "stream",
     "text": [
      "12\n",
      "24\n",
      "26\n",
      "27\n"
     ]
    }
   ],
   "source": [
    "age = 12\n",
    "print(age)\n",
    "\n",
    "age = 24 # updating the age variable\n",
    "print(age)\n",
    "\n",
    "age = age + 2\n",
    "print(age)\n",
    "\n",
    "age += 1\n",
    "print(age)"
   ]
  },
  {
   "cell_type": "markdown",
   "id": "1bdd061a",
   "metadata": {},
   "source": [
    "## 3. Data types \n",
    "\n",
    "\n",
    "Variables can store data of different types, and these different types can do different things.\n",
    "\n",
    "We can use different operators on different data types.\n",
    "\n",
    "Python has many built-in data types. Here are some of the widely used, fundamental ones:\n",
    "\n",
    "* Integers: Positive or negative whole numbers (no decimal point).\n",
    "\n",
    "* Floats: Real numbers. A decimal point divides them into the integer and fractional parts.\n",
    "\n",
    "* Strings: Sequence of characters.\n",
    "\n",
    "* Booleans: Represent one of two values, True or False."
   ]
  },
  {
   "cell_type": "code",
   "execution_count": 3,
   "id": "699da19a",
   "metadata": {},
   "outputs": [
    {
     "name": "stdout",
     "output_type": "stream",
     "text": [
      "5\n",
      "<class 'int'>\n",
      "5.0\n",
      "<class 'float'>\n",
      "hello\n",
      "<class 'str'>\n",
      "True\n",
      "<class 'bool'>\n"
     ]
    }
   ],
   "source": [
    "print(5) #integer\n",
    "print(type(5)) # type() function to obtain the data type of a variable\n",
    "\n",
    "print(5.0) #floating point\n",
    "print(type(5.0))\n",
    "\n",
    "print(\"hello\") #string\n",
    "print(type(\"hello\"))\n",
    "\n",
    "print(True) #Boolean\n",
    "print(type(True))"
   ]
  },
  {
   "cell_type": "code",
   "execution_count": 4,
   "id": "bea82990",
   "metadata": {},
   "outputs": [
    {
     "name": "stdout",
     "output_type": "stream",
     "text": [
      "14\n",
      "10\n",
      "24\n",
      "6.0\n",
      "144\n",
      "0\n"
     ]
    }
   ],
   "source": [
    "# A lil bit of arithmetics\n",
    "\n",
    "a = 12\n",
    "b = 2\n",
    "c = 4\n",
    "\n",
    "# Common operators\n",
    "\n",
    "print(a + b) \n",
    "print(a - b) \n",
    "print(a * b) \n",
    "print(a/b)\n",
    "print(a**b) # exponentiation\n",
    "print(a%b) # remainder of division"
   ]
  },
  {
   "cell_type": "code",
   "execution_count": 5,
   "id": "1eb65401",
   "metadata": {},
   "outputs": [
    {
     "name": "stdout",
     "output_type": "stream",
     "text": [
      "True\n",
      "False\n",
      "True\n",
      "False\n",
      "True\n",
      "True\n"
     ]
    }
   ],
   "source": [
    "# Comparing objects\n",
    "\n",
    "x = 1\n",
    "y = 1\n",
    "z = 547\n",
    "a = \"hello\"\n",
    "\n",
    "print(x == y) # equal to\n",
    "print(x == a)\n",
    "print(x != z) # not equal to\n",
    "print(x > y) # greater than\n",
    "print(x >= y) # greater or equal\n",
    "print(y < z) # less than"
   ]
  },
  {
   "cell_type": "markdown",
   "id": "35f1dae2",
   "metadata": {},
   "source": [
    "## Strings & string operations\n",
    "\n",
    "* A string is a sequence of characters in between quotation marks (single or double, either works)\n",
    "* A single character is a string of length 1\n",
    "* String indexing allows you to access a particular character in a string; string slicing isolates a subset of the string"
   ]
  },
  {
   "cell_type": "code",
   "execution_count": 6,
   "id": "d3a60e32",
   "metadata": {},
   "outputs": [
    {
     "name": "stdout",
     "output_type": "stream",
     "text": [
      "Hello, I am a string\n",
      "Hello, I am a string. Are you really though?\n",
      "20\n",
      "H\n",
      "e\n",
      "g\n",
      "I am a string\n",
      "I am\n",
      "I am a str\n"
     ]
    }
   ],
   "source": [
    "message = \"Hello, I am a string\"\n",
    "\n",
    "print(message)\n",
    "print(message + \". Are you really though?\") # creates a new string\n",
    "\n",
    "print(len(message)) # display length of string\n",
    "\n",
    "# String indexing\n",
    "# Each of a string’s characters correspond to an index number, starting with the index number 0.\n",
    "print(message[0]) # first character\n",
    "print(message[1]) # second character\n",
    "print(message[-1]) # last character\n",
    "\n",
    "# String slicing\n",
    "# First index is where the slice starts (inclusive), second index is where the slice ends (exclusive)\n",
    "print(message[7:]) #8th all the way to last character\n",
    "print(message[7:11]) #8th to 11th character\n",
    "print(message[7:-3])"
   ]
  },
  {
   "cell_type": "markdown",
   "id": "af2da194",
   "metadata": {},
   "source": [
    "## Ndarrays\n",
    "\n",
    "* N-dimensional arrays are matrices of n-size\n",
    "* Similar to lists, but take far less memory\n",
    "* Better optimized for mathematical operations"
   ]
  },
  {
   "cell_type": "code",
   "execution_count": 7,
   "id": "988ce9ef",
   "metadata": {},
   "outputs": [
    {
     "name": "stdout",
     "output_type": "stream",
     "text": [
      "[[0. 0. 0.]\n",
      " [0. 0. 0.]]\n",
      "<class 'numpy.ndarray'>\n"
     ]
    }
   ],
   "source": [
    "arr = np.ndarray(shape=(2,3), dtype=float)\n",
    "print(arr)\n",
    "print(type(arr))"
   ]
  },
  {
   "cell_type": "markdown",
   "id": "daa2b183",
   "metadata": {},
   "source": [
    "## Lists & list operations\n",
    "\n",
    "* Store multiple items in a single variable\n",
    "* Comma-separated items between square brackets\n",
    "* Items in a list need not be of the same type\n",
    "* Are ordered and mutable (can be changed without entirely recreating the list - elements can be modified, replaced, added, deleted, order changed)"
   ]
  },
  {
   "cell_type": "code",
   "execution_count": 8,
   "id": "c40a9269",
   "metadata": {},
   "outputs": [
    {
     "name": "stdout",
     "output_type": "stream",
     "text": [
      "1\n",
      "[1, 2, 345]\n",
      "4\n",
      "True\n",
      "390\n",
      "[1, 2, 345, 42, 'hello']\n",
      "[1, 2, 3, 4, 5, 6]\n"
     ]
    }
   ],
   "source": [
    "my_list = [1, 2, 345, 42]\n",
    "\n",
    "print(my_list[0]) # Elements can be accessed through indexing, like strings\n",
    "print(my_list[0:3])\n",
    "print(len(my_list))\n",
    "print(345 in my_list)\n",
    "print(sum(my_list))\n",
    "\n",
    "my_list.append(\"hello\") # Add string to list containing integers\n",
    "print(my_list)\n",
    "\n",
    "list1 = [1,2,3]\n",
    "list2 = [4,5,6]\n",
    "list3 = list1 + list2 # Concatenate lists with the + sign\n",
    "print(list3)"
   ]
  },
  {
   "cell_type": "markdown",
   "id": "4885139b",
   "metadata": {},
   "source": [
    "## Tuples\n",
    "\n",
    "* Similar to lists, but unmutable (they can't be changed once the are created)\n",
    "* Declared as a comma-separated list within round brackets\n",
    "* Useful for grouping data together >> they are allocated more efficiently than lists, and use less memory\n",
    "* Slicing and indexing is done in the same way as lists and strings\n",
    "* Many of the operations and functions we saw for lists also work on tuples (any of them that don't update the tuple)"
   ]
  },
  {
   "cell_type": "code",
   "execution_count": 9,
   "id": "e5cd5451",
   "metadata": {},
   "outputs": [
    {
     "name": "stdout",
     "output_type": "stream",
     "text": [
      "guanabana\n"
     ]
    }
   ],
   "source": [
    "fruit_tuple = ('apple', 'orange', 'banana', 'guanabana')\n",
    "print(fruit_tuple[3])"
   ]
  },
  {
   "cell_type": "markdown",
   "id": "a94ecdd6",
   "metadata": {},
   "source": [
    "## Dictionaries\n",
    "\n",
    "* Dictionaries store entries as key:value pairs\n",
    "* As of Python 3.7, a dictionary is ordered, mutable and does not allow duplicate entries (before this version they were not ordered)\n",
    "* A key:value pair consists of two related objects. The user can use the key to access the value of any member of the collection\n",
    "* They are commonly used to store datasets, and to retrieve values from the dataset by specifying the corresponding key\n",
    "* To define them, you enclose a comma-separated list of key-value pairs (key and value are separated by a colon) in curly braces"
   ]
  },
  {
   "cell_type": "code",
   "execution_count": 10,
   "id": "108cd2c8",
   "metadata": {},
   "outputs": [
    {
     "name": "stdout",
     "output_type": "stream",
     "text": [
      "54\n",
      "52\n",
      "dict_keys(['apple', 'orange'])\n",
      "dict_keys(['calories', 'water_percent', 'fibre_grams'])\n",
      "dict_values([52, 86, 2.4])\n"
     ]
    }
   ],
   "source": [
    "fruits_nutrition = {\"apple\": {\"calories\" : 54, \"water_percent\" : 86, \"fibre_grams\" : 2.4}, \n",
    "                    \"orange\" : {\"calories\" : 60, \"water_percent\" : 86, \"fibre_grams\" : 3.0}}\n",
    "\n",
    "print(fruits_nutrition[\"apple\"][\"calories\"])\n",
    "\n",
    "# Updating a value in a dictionary\n",
    "fruits_nutrition[\"apple\"][\"calories\"] = 52\n",
    "print(fruits_nutrition[\"apple\"][\"calories\"])\n",
    "\n",
    "print(fruits_nutrition.keys()) # list the keys or values\n",
    "print(fruits_nutrition[\"apple\"].keys()) # for the nested dictionary\n",
    "print(fruits_nutrition[\"apple\"].values())"
   ]
  },
  {
   "cell_type": "code",
   "execution_count": 11,
   "id": "c27280ba",
   "metadata": {},
   "outputs": [
    {
     "name": "stdout",
     "output_type": "stream",
     "text": [
      "<class 'str'>\n",
      "123\n",
      "123.15\n",
      "123\n",
      "[[1 2 3 4]\n",
      " [5 6 7 8]]\n"
     ]
    }
   ],
   "source": [
    "## A lil word on (changing) data types\n",
    "\n",
    "this_string = \"123\"\n",
    "print(type(this_string))\n",
    "this_integer = int(this_string) # convert string to integer\n",
    "print(this_integer)\n",
    "\n",
    "# Loss of data may occur if we force an object to be a specific data type (e.g., if you convert a float to an integer)\n",
    "this_float = float(this_integer) # convert integer to float\n",
    "this_float = this_float + 0.15\n",
    "print(this_float)\n",
    "that_integer = int(this_float) # convert float back to integer\n",
    "print(that_integer)\n",
    "\n",
    "this_list = [[1,2,3,4],[5,6,7,8]]\n",
    "this_array = np.array(this_list) # convert list to ndarray\n",
    "print(this_array)"
   ]
  },
  {
   "cell_type": "code",
   "execution_count": 12,
   "id": "f586031d",
   "metadata": {},
   "outputs": [
    {
     "name": "stdout",
     "output_type": "stream",
     "text": [
      "4 4\n",
      "(2, 4)\n"
     ]
    }
   ],
   "source": [
    "## And finally a quick word about data *dimensions*\n",
    "\n",
    "print(len(this_list[0]), len(this_list[1]))\n",
    "print(this_array.shape)"
   ]
  },
  {
   "cell_type": "markdown",
   "id": "c3a82b97",
   "metadata": {},
   "source": [
    "## 4. Functions\n",
    "\n",
    "* A function is a relationship or mapping between a set of inputs and a set of outputs\n",
    "* Given an input, a function gives you an output (although they don't always need an output)\n",
    "* Block of organized, reusable code that is typically used to perform a single action"
   ]
  },
  {
   "cell_type": "code",
   "execution_count": 13,
   "id": "63819308",
   "metadata": {},
   "outputs": [
    {
     "data": {
      "text/plain": [
       "19"
      ]
     },
     "execution_count": 13,
     "metadata": {},
     "output_type": "execute_result"
    }
   ],
   "source": [
    "def summing_two_nums(x, y): # Make a new function by using def followed by the function name you will give it.\n",
    "    return x + y\n",
    "\n",
    "summing_two_nums(10,9)"
   ]
  },
  {
   "cell_type": "code",
   "execution_count": 14,
   "id": "51e3b256",
   "metadata": {},
   "outputs": [
    {
     "data": {
      "text/plain": [
       "[0, 1, 1, 2, 3]"
      ]
     },
     "execution_count": 14,
     "metadata": {},
     "output_type": "execute_result"
    }
   ],
   "source": [
    "def compute_fibonacci(n):\n",
    "    if n == 1:\n",
    "        return [0]        \n",
    "    fibonacci = [0, 1]\n",
    "    for i in range(2, n):\n",
    "        fibonacci.append(fibonacci[i - 1] + fibonacci[i - 2])\n",
    "    return fibonacci\n",
    "\n",
    "compute_fibonacci(5)"
   ]
  },
  {
   "cell_type": "markdown",
   "id": "d52d9790",
   "metadata": {},
   "source": [
    "*From Wikipedia:*\n",
    "\n",
    "In mathematics, the Fibonacci numbers, commonly denoted Fn, form a sequence, the Fibonacci sequence, in which each number is the sum of the two preceding ones. The sequence commonly starts from 0 and 1, although some authors omit the initial terms and start the sequence from 1 and 1 or from 1 and 2. Starting from 0 and 1, the next few values in the sequence are:\n",
    "\n",
    "0, 1, 1, 2, 3, 5, 8, 13, 21, 34, 55, 89, 144, ..."
   ]
  },
  {
   "cell_type": "markdown",
   "id": "27ccdca8",
   "metadata": {},
   "source": [
    "## 5. If statements\n",
    "\n",
    "* An \"if statement\" is written by using the if keyword.\n",
    "* The code within an if statement is only executed if the specified condition evaluates to True.\n",
    "* The code can make decisions based on conditions."
   ]
  },
  {
   "cell_type": "code",
   "execution_count": 15,
   "id": "93a6b4ce",
   "metadata": {},
   "outputs": [
    {
     "name": "stdout",
     "output_type": "stream",
     "text": [
      "x is bigger than y\n"
     ]
    }
   ],
   "source": [
    "x = 7\n",
    "y = 3\n",
    "\n",
    "if x > y:\n",
    "    print(\"x is bigger than y\")\n",
    "else:\n",
    "    print(\"x is not bigger than y\")"
   ]
  },
  {
   "cell_type": "markdown",
   "id": "05de12b7",
   "metadata": {},
   "source": [
    "## 6. Loops\n",
    "\n",
    "* A loop is a sequence of code that is repeated until a certain condition is met\n",
    "* There are two main types of loops: **for** and **while**"
   ]
  },
  {
   "cell_type": "code",
   "execution_count": 16,
   "id": "4a1de8a7",
   "metadata": {},
   "outputs": [
    {
     "name": "stdout",
     "output_type": "stream",
     "text": [
      "1\n",
      "2\n",
      "3\n",
      "4\n",
      "5\n"
     ]
    }
   ],
   "source": [
    "# While loops\n",
    "\n",
    "i = 1 # initialize counter\n",
    "while i < 6:\n",
    "    print(i)\n",
    "    i += 1 #  same as i = i + 1"
   ]
  },
  {
   "cell_type": "code",
   "execution_count": 17,
   "id": "4c13aa4c",
   "metadata": {},
   "outputs": [
    {
     "name": "stdout",
     "output_type": "stream",
     "text": [
      "orange\n",
      "apples\n",
      "bananas\n",
      "orange\n",
      "apples\n"
     ]
    }
   ],
   "source": [
    "# For loops\n",
    "\n",
    "my_list = [\"orange\", \"apples\", \"bananas\"]\n",
    "for x in my_list: # print all elements of my_list\n",
    "    print(x)\n",
    "\n",
    "\n",
    "for x in range(2): # print 2 first elements of my_list\n",
    "    print(my_list[x])"
   ]
  },
  {
   "cell_type": "code",
   "execution_count": 18,
   "id": "01efe15d",
   "metadata": {},
   "outputs": [
    {
     "name": "stdout",
     "output_type": "stream",
     "text": [
      "orange\n",
      "orange\n",
      "orange\n",
      "apples\n",
      "apples\n",
      "apples\n",
      "bananas\n",
      "bananas\n",
      "bananas\n"
     ]
    }
   ],
   "source": [
    "# Nested loops: a loop within a loop\n",
    "\n",
    "my_list = [\"orange\", \"apples\", \"bananas\"]\n",
    "\n",
    "for item in my_list:\n",
    "    x = 1\n",
    "    while x <= 3: # note that the inner 'nested' loop has to finish before the next iteration of the outer loop\n",
    "        print(item) # notice the double indentation below\n",
    "        x += 1\n"
   ]
  },
  {
   "cell_type": "markdown",
   "id": "986d80f8",
   "metadata": {},
   "source": [
    "## Exceptions\n",
    "\n",
    "* Often when we write code we are faced with handling errors in it. Python offers ways to allow us gracefully deal with these errors.\n",
    "* Code inside a try block lets you test the code for errors.\n",
    "* The except block lets you decide what to do in the case that there is an error inside the try block\n",
    "* The finally block allowed you to execute code regardless of the result of the try and except blocks"
   ]
  },
  {
   "cell_type": "code",
   "execution_count": 19,
   "id": "3bf18144",
   "metadata": {},
   "outputs": [
    {
     "name": "stdout",
     "output_type": "stream",
     "text": [
      "An exception occurred\n",
      "The 'try except' is finished\n"
     ]
    }
   ],
   "source": [
    "#z=2\n",
    "del z\n",
    "\n",
    "try:\n",
    "    print(z)\n",
    "except Exception:\n",
    "    print(\"An exception occurred\") #The code inside the except block is executed if there are errors\n",
    "finally:\n",
    "    print(\"The 'try except' is finished\")"
   ]
  },
  {
   "cell_type": "markdown",
   "id": "86a3db52",
   "metadata": {},
   "source": [
    "## 7. Dataframes \n",
    "\n",
    "One word: Pandas."
   ]
  },
  {
   "cell_type": "code",
   "execution_count": 20,
   "id": "307baaa1",
   "metadata": {},
   "outputs": [
    {
     "data": {
      "text/html": [
       "<div>\n",
       "<style scoped>\n",
       "    .dataframe tbody tr th:only-of-type {\n",
       "        vertical-align: middle;\n",
       "    }\n",
       "\n",
       "    .dataframe tbody tr th {\n",
       "        vertical-align: top;\n",
       "    }\n",
       "\n",
       "    .dataframe thead th {\n",
       "        text-align: right;\n",
       "    }\n",
       "</style>\n",
       "<table border=\"1\" class=\"dataframe\">\n",
       "  <thead>\n",
       "    <tr style=\"text-align: right;\">\n",
       "      <th></th>\n",
       "      <th>a</th>\n",
       "      <th>b</th>\n",
       "      <th>c</th>\n",
       "    </tr>\n",
       "  </thead>\n",
       "  <tbody>\n",
       "    <tr>\n",
       "      <th>1</th>\n",
       "      <td>4</td>\n",
       "      <td>7</td>\n",
       "      <td>10</td>\n",
       "    </tr>\n",
       "    <tr>\n",
       "      <th>2</th>\n",
       "      <td>5</td>\n",
       "      <td>8</td>\n",
       "      <td>11</td>\n",
       "    </tr>\n",
       "    <tr>\n",
       "      <th>3</th>\n",
       "      <td>6</td>\n",
       "      <td>9</td>\n",
       "      <td>12</td>\n",
       "    </tr>\n",
       "  </tbody>\n",
       "</table>\n",
       "</div>"
      ],
      "text/plain": [
       "   a  b   c\n",
       "1  4  7  10\n",
       "2  5  8  11\n",
       "3  6  9  12"
      ]
     },
     "execution_count": 20,
     "metadata": {},
     "output_type": "execute_result"
    }
   ],
   "source": [
    "# Create a dataframe from a list\n",
    "\n",
    "my_list = [[4, 7, 10],\n",
    "       [5, 8, 11],\n",
    "       [6, 9, 12]]\n",
    "\n",
    "list_df = pd.DataFrame(my_list,\n",
    "                       index=[1, 2, 3],\n",
    "                       columns=['a', 'b', 'c'])\n",
    "\n",
    "list_df"
   ]
  },
  {
   "cell_type": "code",
   "execution_count": 21,
   "id": "083d5c0d",
   "metadata": {},
   "outputs": [
    {
     "data": {
      "text/html": [
       "<div>\n",
       "<style scoped>\n",
       "    .dataframe tbody tr th:only-of-type {\n",
       "        vertical-align: middle;\n",
       "    }\n",
       "\n",
       "    .dataframe tbody tr th {\n",
       "        vertical-align: top;\n",
       "    }\n",
       "\n",
       "    .dataframe thead th {\n",
       "        text-align: right;\n",
       "    }\n",
       "</style>\n",
       "<table border=\"1\" class=\"dataframe\">\n",
       "  <thead>\n",
       "    <tr style=\"text-align: right;\">\n",
       "      <th></th>\n",
       "      <th>subjID</th>\n",
       "      <th>age</th>\n",
       "    </tr>\n",
       "  </thead>\n",
       "  <tbody>\n",
       "    <tr>\n",
       "      <th>0</th>\n",
       "      <td>HC1</td>\n",
       "      <td>24.1</td>\n",
       "    </tr>\n",
       "    <tr>\n",
       "      <th>1</th>\n",
       "      <td>HC2</td>\n",
       "      <td>38.0</td>\n",
       "    </tr>\n",
       "    <tr>\n",
       "      <th>2</th>\n",
       "      <td>HC3</td>\n",
       "      <td>50.8</td>\n",
       "    </tr>\n",
       "    <tr>\n",
       "      <th>3</th>\n",
       "      <td>PX1</td>\n",
       "      <td>20.9</td>\n",
       "    </tr>\n",
       "    <tr>\n",
       "      <th>4</th>\n",
       "      <td>PX2</td>\n",
       "      <td>37.4</td>\n",
       "    </tr>\n",
       "  </tbody>\n",
       "</table>\n",
       "</div>"
      ],
      "text/plain": [
       "  subjID   age\n",
       "0    HC1  24.1\n",
       "1    HC2  38.0\n",
       "2    HC3  50.8\n",
       "3    PX1  20.9\n",
       "4    PX2  37.4"
      ]
     },
     "execution_count": 21,
     "metadata": {},
     "output_type": "execute_result"
    }
   ],
   "source": [
    "# You can also create a dataframe from a dictionary\n",
    "\n",
    "my_dict = {'subjID':  ['HC1', 'HC2', 'HC3', 'PX1', 'PX2'],\n",
    "        'age': [24.1, 38, 50.8, 20.9, 37.4]}\n",
    "\n",
    "dict_df = pd.DataFrame(my_dict)\n",
    "dict_df"
   ]
  },
  {
   "cell_type": "code",
   "execution_count": 22,
   "id": "a9dabb8c",
   "metadata": {},
   "outputs": [
    {
     "data": {
      "text/html": [
       "<div>\n",
       "<style scoped>\n",
       "    .dataframe tbody tr th:only-of-type {\n",
       "        vertical-align: middle;\n",
       "    }\n",
       "\n",
       "    .dataframe tbody tr th {\n",
       "        vertical-align: top;\n",
       "    }\n",
       "\n",
       "    .dataframe thead th {\n",
       "        text-align: right;\n",
       "    }\n",
       "</style>\n",
       "<table border=\"1\" class=\"dataframe\">\n",
       "  <thead>\n",
       "    <tr style=\"text-align: right;\">\n",
       "      <th></th>\n",
       "      <th>Subject</th>\n",
       "      <th>Age</th>\n",
       "      <th>Sex</th>\n",
       "      <th>Site</th>\n",
       "      <th>PRS_ASD</th>\n",
       "    </tr>\n",
       "  </thead>\n",
       "  <tbody>\n",
       "    <tr>\n",
       "      <th>0</th>\n",
       "      <td>P0098</td>\n",
       "      <td>19.916667</td>\n",
       "      <td>F</td>\n",
       "      <td>1</td>\n",
       "      <td>-0.001570</td>\n",
       "    </tr>\n",
       "    <tr>\n",
       "      <th>1</th>\n",
       "      <td>P0100</td>\n",
       "      <td>19.250000</td>\n",
       "      <td>F</td>\n",
       "      <td>1</td>\n",
       "      <td>-0.002245</td>\n",
       "    </tr>\n",
       "    <tr>\n",
       "      <th>2</th>\n",
       "      <td>P0150</td>\n",
       "      <td>19.416667</td>\n",
       "      <td>F</td>\n",
       "      <td>5</td>\n",
       "      <td>-0.002011</td>\n",
       "    </tr>\n",
       "    <tr>\n",
       "      <th>3</th>\n",
       "      <td>P0151</td>\n",
       "      <td>17.083333</td>\n",
       "      <td>F</td>\n",
       "      <td>5</td>\n",
       "      <td>-0.001908</td>\n",
       "    </tr>\n",
       "    <tr>\n",
       "      <th>4</th>\n",
       "      <td>P0162</td>\n",
       "      <td>15.333333</td>\n",
       "      <td>M</td>\n",
       "      <td>1</td>\n",
       "      <td>-0.001760</td>\n",
       "    </tr>\n",
       "    <tr>\n",
       "      <th>...</th>\n",
       "      <td>...</td>\n",
       "      <td>...</td>\n",
       "      <td>...</td>\n",
       "      <td>...</td>\n",
       "      <td>...</td>\n",
       "    </tr>\n",
       "    <tr>\n",
       "      <th>116</th>\n",
       "      <td>P1546</td>\n",
       "      <td>9.750000</td>\n",
       "      <td>M</td>\n",
       "      <td>5</td>\n",
       "      <td>-0.001972</td>\n",
       "    </tr>\n",
       "    <tr>\n",
       "      <th>117</th>\n",
       "      <td>P1551</td>\n",
       "      <td>9.416667</td>\n",
       "      <td>F</td>\n",
       "      <td>7</td>\n",
       "      <td>-0.002536</td>\n",
       "    </tr>\n",
       "    <tr>\n",
       "      <th>118</th>\n",
       "      <td>P1575</td>\n",
       "      <td>5.916667</td>\n",
       "      <td>M</td>\n",
       "      <td>3</td>\n",
       "      <td>-0.002626</td>\n",
       "    </tr>\n",
       "    <tr>\n",
       "      <th>119</th>\n",
       "      <td>P1612</td>\n",
       "      <td>8.000000</td>\n",
       "      <td>F</td>\n",
       "      <td>4</td>\n",
       "      <td>-0.001933</td>\n",
       "    </tr>\n",
       "    <tr>\n",
       "      <th>120</th>\n",
       "      <td>P1720</td>\n",
       "      <td>2.166667</td>\n",
       "      <td>M</td>\n",
       "      <td>4</td>\n",
       "      <td>-0.002035</td>\n",
       "    </tr>\n",
       "  </tbody>\n",
       "</table>\n",
       "<p>121 rows × 5 columns</p>\n",
       "</div>"
      ],
      "text/plain": [
       "    Subject        Age Sex  Site   PRS_ASD\n",
       "0     P0098  19.916667   F     1 -0.001570\n",
       "1     P0100  19.250000   F     1 -0.002245\n",
       "2     P0150  19.416667   F     5 -0.002011\n",
       "3     P0151  17.083333   F     5 -0.001908\n",
       "4     P0162  15.333333   M     1 -0.001760\n",
       "..      ...        ...  ..   ...       ...\n",
       "116   P1546   9.750000   M     5 -0.001972\n",
       "117   P1551   9.416667   F     7 -0.002536\n",
       "118   P1575   5.916667   M     3 -0.002626\n",
       "119   P1612   8.000000   F     4 -0.001933\n",
       "120   P1720   2.166667   M     4 -0.002035\n",
       "\n",
       "[121 rows x 5 columns]"
      ]
     },
     "execution_count": 22,
     "metadata": {},
     "output_type": "execute_result"
    }
   ],
   "source": [
    "# Create dataframe from csv file\n",
    "\n",
    "url = 'https://raw.githubusercontent.com/valkebets/mica_python_tutorial/master/example_tabular_data.csv'\n",
    "df = pd.read_csv(url) # Load csv file as dataframe\n",
    "df # Print dataframe"
   ]
  },
  {
   "cell_type": "code",
   "execution_count": 23,
   "id": "041fcbc6",
   "metadata": {},
   "outputs": [
    {
     "name": "stdout",
     "output_type": "stream",
     "text": [
      "Mean value of Age: 13.081267217338844\n",
      "Max value of PRS-ASD: -0.001485833\n",
      "Unique values of Site: [1 5 3 4 7]\n"
     ]
    }
   ],
   "source": [
    "# Explore a few variables from the dataframe\n",
    "\n",
    "print('Mean value of Age:', df['Age'].mean())\n",
    "print('Max value of PRS-ASD:', df['PRS_ASD'].max()) \n",
    "print('Unique values of Site:', df['Site'].unique())"
   ]
  },
  {
   "cell_type": "code",
   "execution_count": 24,
   "id": "fa3c915b",
   "metadata": {},
   "outputs": [
    {
     "data": {
      "text/html": [
       "<div>\n",
       "<style scoped>\n",
       "    .dataframe tbody tr th:only-of-type {\n",
       "        vertical-align: middle;\n",
       "    }\n",
       "\n",
       "    .dataframe tbody tr th {\n",
       "        vertical-align: top;\n",
       "    }\n",
       "\n",
       "    .dataframe thead th {\n",
       "        text-align: right;\n",
       "    }\n",
       "</style>\n",
       "<table border=\"1\" class=\"dataframe\">\n",
       "  <thead>\n",
       "    <tr style=\"text-align: right;\">\n",
       "      <th></th>\n",
       "      <th>Subject</th>\n",
       "      <th>Age</th>\n",
       "      <th>Sex</th>\n",
       "      <th>PRS_ASD</th>\n",
       "    </tr>\n",
       "  </thead>\n",
       "  <tbody>\n",
       "    <tr>\n",
       "      <th>0</th>\n",
       "      <td>P0098</td>\n",
       "      <td>19.916667</td>\n",
       "      <td>F</td>\n",
       "      <td>-0.001570</td>\n",
       "    </tr>\n",
       "    <tr>\n",
       "      <th>1</th>\n",
       "      <td>P0100</td>\n",
       "      <td>19.250000</td>\n",
       "      <td>F</td>\n",
       "      <td>-0.002245</td>\n",
       "    </tr>\n",
       "    <tr>\n",
       "      <th>2</th>\n",
       "      <td>P0150</td>\n",
       "      <td>19.416667</td>\n",
       "      <td>F</td>\n",
       "      <td>-0.002011</td>\n",
       "    </tr>\n",
       "    <tr>\n",
       "      <th>3</th>\n",
       "      <td>P0151</td>\n",
       "      <td>17.083333</td>\n",
       "      <td>F</td>\n",
       "      <td>-0.001908</td>\n",
       "    </tr>\n",
       "    <tr>\n",
       "      <th>4</th>\n",
       "      <td>P0162</td>\n",
       "      <td>15.333333</td>\n",
       "      <td>M</td>\n",
       "      <td>-0.001760</td>\n",
       "    </tr>\n",
       "    <tr>\n",
       "      <th>...</th>\n",
       "      <td>...</td>\n",
       "      <td>...</td>\n",
       "      <td>...</td>\n",
       "      <td>...</td>\n",
       "    </tr>\n",
       "    <tr>\n",
       "      <th>116</th>\n",
       "      <td>P1546</td>\n",
       "      <td>9.750000</td>\n",
       "      <td>M</td>\n",
       "      <td>-0.001972</td>\n",
       "    </tr>\n",
       "    <tr>\n",
       "      <th>117</th>\n",
       "      <td>P1551</td>\n",
       "      <td>9.416667</td>\n",
       "      <td>F</td>\n",
       "      <td>-0.002536</td>\n",
       "    </tr>\n",
       "    <tr>\n",
       "      <th>118</th>\n",
       "      <td>P1575</td>\n",
       "      <td>5.916667</td>\n",
       "      <td>M</td>\n",
       "      <td>-0.002626</td>\n",
       "    </tr>\n",
       "    <tr>\n",
       "      <th>119</th>\n",
       "      <td>P1612</td>\n",
       "      <td>8.000000</td>\n",
       "      <td>F</td>\n",
       "      <td>-0.001933</td>\n",
       "    </tr>\n",
       "    <tr>\n",
       "      <th>120</th>\n",
       "      <td>P1720</td>\n",
       "      <td>2.166667</td>\n",
       "      <td>M</td>\n",
       "      <td>-0.002035</td>\n",
       "    </tr>\n",
       "  </tbody>\n",
       "</table>\n",
       "<p>121 rows × 4 columns</p>\n",
       "</div>"
      ],
      "text/plain": [
       "    Subject        Age Sex   PRS_ASD\n",
       "0     P0098  19.916667   F -0.001570\n",
       "1     P0100  19.250000   F -0.002245\n",
       "2     P0150  19.416667   F -0.002011\n",
       "3     P0151  17.083333   F -0.001908\n",
       "4     P0162  15.333333   M -0.001760\n",
       "..      ...        ...  ..       ...\n",
       "116   P1546   9.750000   M -0.001972\n",
       "117   P1551   9.416667   F -0.002536\n",
       "118   P1575   5.916667   M -0.002626\n",
       "119   P1612   8.000000   F -0.001933\n",
       "120   P1720   2.166667   M -0.002035\n",
       "\n",
       "[121 rows x 4 columns]"
      ]
     },
     "execution_count": 24,
     "metadata": {},
     "output_type": "execute_result"
    }
   ],
   "source": [
    "# Create a new dataframe as a subset of the previous one, by selecting specific columns\n",
    "\n",
    "df2 = df[['Subject', 'Age', 'Sex', 'PRS_ASD']]\n",
    "df2"
   ]
  },
  {
   "cell_type": "code",
   "execution_count": 25,
   "id": "9aa9f4ba",
   "metadata": {},
   "outputs": [
    {
     "data": {
      "text/html": [
       "<div>\n",
       "<style scoped>\n",
       "    .dataframe tbody tr th:only-of-type {\n",
       "        vertical-align: middle;\n",
       "    }\n",
       "\n",
       "    .dataframe tbody tr th {\n",
       "        vertical-align: top;\n",
       "    }\n",
       "\n",
       "    .dataframe thead th {\n",
       "        text-align: right;\n",
       "    }\n",
       "</style>\n",
       "<table border=\"1\" class=\"dataframe\">\n",
       "  <thead>\n",
       "    <tr style=\"text-align: right;\">\n",
       "      <th></th>\n",
       "      <th>Subject</th>\n",
       "      <th>Age</th>\n",
       "      <th>Sex</th>\n",
       "      <th>Site</th>\n",
       "      <th>PRS_ASD</th>\n",
       "    </tr>\n",
       "  </thead>\n",
       "  <tbody>\n",
       "    <tr>\n",
       "      <th>0</th>\n",
       "      <td>P0098</td>\n",
       "      <td>19.916667</td>\n",
       "      <td>F</td>\n",
       "      <td>1</td>\n",
       "      <td>-0.001570</td>\n",
       "    </tr>\n",
       "    <tr>\n",
       "      <th>1</th>\n",
       "      <td>P0100</td>\n",
       "      <td>19.250000</td>\n",
       "      <td>F</td>\n",
       "      <td>1</td>\n",
       "      <td>-0.002245</td>\n",
       "    </tr>\n",
       "    <tr>\n",
       "      <th>2</th>\n",
       "      <td>P0150</td>\n",
       "      <td>19.416667</td>\n",
       "      <td>F</td>\n",
       "      <td>5</td>\n",
       "      <td>-0.002011</td>\n",
       "    </tr>\n",
       "    <tr>\n",
       "      <th>3</th>\n",
       "      <td>P0151</td>\n",
       "      <td>17.083333</td>\n",
       "      <td>F</td>\n",
       "      <td>5</td>\n",
       "      <td>-0.001908</td>\n",
       "    </tr>\n",
       "    <tr>\n",
       "      <th>4</th>\n",
       "      <td>P0162</td>\n",
       "      <td>15.333333</td>\n",
       "      <td>M</td>\n",
       "      <td>1</td>\n",
       "      <td>-0.001760</td>\n",
       "    </tr>\n",
       "  </tbody>\n",
       "</table>\n",
       "</div>"
      ],
      "text/plain": [
       "  Subject        Age Sex  Site   PRS_ASD\n",
       "0   P0098  19.916667   F     1 -0.001570\n",
       "1   P0100  19.250000   F     1 -0.002245\n",
       "2   P0150  19.416667   F     5 -0.002011\n",
       "3   P0151  17.083333   F     5 -0.001908\n",
       "4   P0162  15.333333   M     1 -0.001760"
      ]
     },
     "execution_count": 25,
     "metadata": {},
     "output_type": "execute_result"
    }
   ],
   "source": [
    "# Select only specific rows of a dataframe\n",
    "\n",
    "df3 = df.iloc[:5] # select rows 1-5\n",
    "df3"
   ]
  },
  {
   "cell_type": "code",
   "execution_count": 26,
   "id": "1315fba6",
   "metadata": {},
   "outputs": [
    {
     "data": {
      "text/html": [
       "<div>\n",
       "<style scoped>\n",
       "    .dataframe tbody tr th:only-of-type {\n",
       "        vertical-align: middle;\n",
       "    }\n",
       "\n",
       "    .dataframe tbody tr th {\n",
       "        vertical-align: top;\n",
       "    }\n",
       "\n",
       "    .dataframe thead th {\n",
       "        text-align: right;\n",
       "    }\n",
       "</style>\n",
       "<table border=\"1\" class=\"dataframe\">\n",
       "  <thead>\n",
       "    <tr style=\"text-align: right;\">\n",
       "      <th></th>\n",
       "      <th>Subject</th>\n",
       "      <th>Age</th>\n",
       "      <th>Sex</th>\n",
       "      <th>Site</th>\n",
       "      <th>PRS_ASD</th>\n",
       "    </tr>\n",
       "  </thead>\n",
       "  <tbody>\n",
       "    <tr>\n",
       "      <th>0</th>\n",
       "      <td>P0098</td>\n",
       "      <td>19.916667</td>\n",
       "      <td>F</td>\n",
       "      <td>1</td>\n",
       "      <td>-0.001570</td>\n",
       "    </tr>\n",
       "    <tr>\n",
       "      <th>2</th>\n",
       "      <td>P0150</td>\n",
       "      <td>19.416667</td>\n",
       "      <td>F</td>\n",
       "      <td>5</td>\n",
       "      <td>-0.002011</td>\n",
       "    </tr>\n",
       "    <tr>\n",
       "      <th>3</th>\n",
       "      <td>P0151</td>\n",
       "      <td>17.083333</td>\n",
       "      <td>F</td>\n",
       "      <td>5</td>\n",
       "      <td>-0.001908</td>\n",
       "    </tr>\n",
       "    <tr>\n",
       "      <th>4</th>\n",
       "      <td>P0162</td>\n",
       "      <td>15.333333</td>\n",
       "      <td>M</td>\n",
       "      <td>1</td>\n",
       "      <td>-0.001760</td>\n",
       "    </tr>\n",
       "  </tbody>\n",
       "</table>\n",
       "</div>"
      ],
      "text/plain": [
       "  Subject        Age Sex  Site   PRS_ASD\n",
       "0   P0098  19.916667   F     1 -0.001570\n",
       "2   P0150  19.416667   F     5 -0.002011\n",
       "3   P0151  17.083333   F     5 -0.001908\n",
       "4   P0162  15.333333   M     1 -0.001760"
      ]
     },
     "execution_count": 26,
     "metadata": {},
     "output_type": "execute_result"
    }
   ],
   "source": [
    "# Remove specific rows by their value in a column\n",
    "\n",
    "df4 = df3.copy()\n",
    "df4 = df4[df4.Subject != 'P0100'] # remove row of subject P0100\n",
    "df4"
   ]
  },
  {
   "cell_type": "code",
   "execution_count": 27,
   "id": "4712bdbe",
   "metadata": {},
   "outputs": [
    {
     "data": {
      "text/html": [
       "<div>\n",
       "<style scoped>\n",
       "    .dataframe tbody tr th:only-of-type {\n",
       "        vertical-align: middle;\n",
       "    }\n",
       "\n",
       "    .dataframe tbody tr th {\n",
       "        vertical-align: top;\n",
       "    }\n",
       "\n",
       "    .dataframe thead th {\n",
       "        text-align: right;\n",
       "    }\n",
       "</style>\n",
       "<table border=\"1\" class=\"dataframe\">\n",
       "  <thead>\n",
       "    <tr style=\"text-align: right;\">\n",
       "      <th></th>\n",
       "      <th>Subject</th>\n",
       "      <th>Age</th>\n",
       "      <th>Sex</th>\n",
       "      <th>Site</th>\n",
       "      <th>PRS_ASD</th>\n",
       "    </tr>\n",
       "  </thead>\n",
       "  <tbody>\n",
       "    <tr>\n",
       "      <th>21</th>\n",
       "      <td>P0449</td>\n",
       "      <td>0.333333</td>\n",
       "      <td>M</td>\n",
       "      <td>1</td>\n",
       "      <td>-0.002035</td>\n",
       "    </tr>\n",
       "    <tr>\n",
       "      <th>108</th>\n",
       "      <td>P1463</td>\n",
       "      <td>2.750000</td>\n",
       "      <td>M</td>\n",
       "      <td>4</td>\n",
       "      <td>-0.002218</td>\n",
       "    </tr>\n",
       "    <tr>\n",
       "      <th>112</th>\n",
       "      <td>P1512</td>\n",
       "      <td>2.166667</td>\n",
       "      <td>F</td>\n",
       "      <td>3</td>\n",
       "      <td>-0.001759</td>\n",
       "    </tr>\n",
       "    <tr>\n",
       "      <th>120</th>\n",
       "      <td>P1720</td>\n",
       "      <td>2.166667</td>\n",
       "      <td>M</td>\n",
       "      <td>4</td>\n",
       "      <td>-0.002035</td>\n",
       "    </tr>\n",
       "  </tbody>\n",
       "</table>\n",
       "</div>"
      ],
      "text/plain": [
       "    Subject       Age Sex  Site   PRS_ASD\n",
       "21    P0449  0.333333   M     1 -0.002035\n",
       "108   P1463  2.750000   M     4 -0.002218\n",
       "112   P1512  2.166667   F     3 -0.001759\n",
       "120   P1720  2.166667   M     4 -0.002035"
      ]
     },
     "execution_count": 27,
     "metadata": {},
     "output_type": "execute_result"
    }
   ],
   "source": [
    "# Create subset of dataframe with a conditional statement\n",
    "\n",
    "df5 = df[df['Age'] < 3]\n",
    "df5"
   ]
  },
  {
   "cell_type": "markdown",
   "id": "7b4df22f",
   "metadata": {},
   "source": [
    "## 8. Data visualization\n",
    "\n",
    "Matplotlib and Seaborn are your friends!\n",
    "But you can start with basics plots with Pandas too"
   ]
  },
  {
   "cell_type": "code",
   "execution_count": 28,
   "id": "0320331d",
   "metadata": {},
   "outputs": [
    {
     "data": {
      "image/png": "[encoded data removed]",
      "text/plain": [
       "<Figure size 432x288 with 1 Axes>"
      ]
     },
     "metadata": {
      "needs_background": "light"
     },
     "output_type": "display_data"
    }
   ],
   "source": [
    "# Create simple histogram for quick visualization\n",
    "\n",
    "fig = df['Age'].plot.hist(bins=20)"
   ]
  },
  {
   "cell_type": "code",
   "execution_count": 29,
   "id": "f1617b92",
   "metadata": {},
   "outputs": [
    {
     "data": {
      "image/png": "[encoded data removed]",
      "text/plain": [
       "<Figure size 576x432 with 1 Axes>"
      ]
     },
     "metadata": {
      "needs_background": "light"
     },
     "output_type": "display_data"
    }
   ],
   "source": [
    "# Histogram with more options using Matplotlib\n",
    "\n",
    "plt.figure(figsize=(8,6))\n",
    "plt.hist(df['Age'], bins=20, color='#5097A4')\n",
    "plt.xlabel('Age', fontsize=14, fontname='Avenir')\n",
    "plt.ylabel('Frequency', fontsize=14, fontname='Avenir')\n",
    "plt.title('Age distribution', fontsize=20, fontname='Avenir')\n",
    "plt.grid(False)\n",
    "#plt.savefig('fig1.png')\n",
    "plt.show()"
   ]
  },
  {
   "cell_type": "code",
   "execution_count": 30,
   "id": "621a78b9",
   "metadata": {},
   "outputs": [
    {
     "data": {
      "image/png": "[encoded data removed]",
      "text/plain": [
       "<Figure size 360x360 with 1 Axes>"
      ]
     },
     "metadata": {
      "needs_background": "light"
     },
     "output_type": "display_data"
    }
   ],
   "source": [
    "# And now a quick look at histograms in Seaborn\n",
    "\n",
    "sns.displot(df['Age'], kind='hist', bins=20)\n",
    "plt.xlabel('Age', fontsize=14, fontname='Avenir')\n",
    "plt.ylabel('Frequency', fontsize=14, fontname='Avenir')\n",
    "plt.title('Age distribution', fontsize=20, fontname='Avenir')\n",
    "#plt.grid(False)\n",
    "plt.margins(x=0) # set x axis to start at 0\n",
    "plt.show()"
   ]
  },
  {
   "cell_type": "code",
   "execution_count": 31,
   "id": "abd96c27",
   "metadata": {},
   "outputs": [
    {
     "data": {
      "image/png": "[encoded data removed]",
      "text/plain": [
       "<Figure size 576x432 with 1 Axes>"
      ]
     },
     "metadata": {
      "needs_background": "light"
     },
     "output_type": "display_data"
    }
   ],
   "source": [
    "# Scatterplots in matplotlib\n",
    "\n",
    "m, b = np.polyfit(df['Age'], df['PRS_ASD'], 1)\n",
    "\n",
    "plt.figure(figsize=(8,6))\n",
    "plt.scatter(df['Age'], df['PRS_ASD'], alpha=0.7,cmap = 'viridis')\n",
    "plt.title('PRS-ASD by age',fontsize=20, fontname='Avenir')\n",
    "plt.xlabel('Age', fontsize=14, fontname='Avenir')\n",
    "plt.ylabel('PRS', fontsize=14, fontname='Avenir')\n",
    "plt.grid(True)\n",
    "plt.plot(df['Age'], m*df['Age']+b, color='black') # add linear regression line\n",
    "#plt.margins(x=0) # set x axis to start at 0\n",
    "plt.show()"
   ]
  },
  {
   "cell_type": "code",
   "execution_count": 32,
   "id": "e5eb10e1",
   "metadata": {},
   "outputs": [
    {
     "name": "stderr",
     "output_type": "stream",
     "text": [
      "/Users/valkebets/opt/miniconda3/envs/p37/lib/python3.7/site-packages/seaborn/_decorators.py:43: FutureWarning: Pass the following variables as keyword args: x, y. From version 0.12, the only valid positional argument will be `data`, and passing other arguments without an explicit keyword will result in an error or misinterpretation.\n",
      "  FutureWarning\n"
     ]
    },
    {
     "data": {
      "image/png": "[encoded data removed]",
      "text/plain": [
       "<Figure size 576x432 with 1 Axes>"
      ]
     },
     "metadata": {
      "needs_background": "light"
     },
     "output_type": "display_data"
    }
   ],
   "source": [
    "# Scatterplot with regression line and confidence interval in Seaborn\n",
    "\n",
    "plt.figure(figsize=(8,6))\n",
    "fig = sns.regplot(df['Age'], df['PRS_ASD']) #, ci=None)\n",
    "plt.title('PRS-ASD by age',fontsize=20, fontname='Avenir')\n",
    "plt.xlabel('Age', fontsize=14, fontname='Avenir')\n",
    "plt.ylabel('PRS', fontsize=14, fontname='Avenir')\n",
    "plt.grid(True)\n",
    "#plt.margins(x=0) # set x axis to start at 0\n",
    "plt.show()"
   ]
  },
  {
   "cell_type": "code",
   "execution_count": null,
   "id": "270cb523",
   "metadata": {},
   "outputs": [],
   "source": []
  }
 ],
 "metadata": {
  "kernelspec": {
   "display_name": "Python 3",
   "language": "python",
   "name": "python3"
  },
  "language_info": {
   "codemirror_mode": {
    "name": "ipython",
    "version": 3
   },
   "file_extension": ".py",
   "mimetype": "text/x-python",
   "name": "python",
   "nbconvert_exporter": "python",
   "pygments_lexer": "ipython3",
   "version": "3.7.9"
  }
 },
 "nbformat": 4,
 "nbformat_minor": 5
}
